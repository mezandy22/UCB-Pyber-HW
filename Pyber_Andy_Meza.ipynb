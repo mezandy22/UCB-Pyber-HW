{
 "cells": [
  {
   "cell_type": "code",
   "execution_count": 316,
   "metadata": {
    "collapsed": true
   },
   "outputs": [],
   "source": [
    "## 3 observations at the end##"
   ]
  },
  {
   "cell_type": "code",
   "execution_count": 317,
   "metadata": {},
   "outputs": [
    {
     "data": {
      "text/html": [
       "<div>\n",
       "<style>\n",
       "    .dataframe thead tr:only-child th {\n",
       "        text-align: right;\n",
       "    }\n",
       "\n",
       "    .dataframe thead th {\n",
       "        text-align: left;\n",
       "    }\n",
       "\n",
       "    .dataframe tbody tr th {\n",
       "        vertical-align: top;\n",
       "    }\n",
       "</style>\n",
       "<table border=\"1\" class=\"dataframe\">\n",
       "  <thead>\n",
       "    <tr style=\"text-align: right;\">\n",
       "      <th></th>\n",
       "      <th>city</th>\n",
       "      <th>date</th>\n",
       "      <th>fare</th>\n",
       "      <th>ride_id</th>\n",
       "    </tr>\n",
       "  </thead>\n",
       "  <tbody>\n",
       "    <tr>\n",
       "      <th>0</th>\n",
       "      <td>Sarabury</td>\n",
       "      <td>2016-01-16 13:49:27</td>\n",
       "      <td>38.35</td>\n",
       "      <td>5403689035038</td>\n",
       "    </tr>\n",
       "    <tr>\n",
       "      <th>1</th>\n",
       "      <td>South Roy</td>\n",
       "      <td>2016-01-02 18:42:34</td>\n",
       "      <td>17.49</td>\n",
       "      <td>4036272335942</td>\n",
       "    </tr>\n",
       "    <tr>\n",
       "      <th>2</th>\n",
       "      <td>Wiseborough</td>\n",
       "      <td>2016-01-21 17:35:29</td>\n",
       "      <td>44.18</td>\n",
       "      <td>3645042422587</td>\n",
       "    </tr>\n",
       "    <tr>\n",
       "      <th>3</th>\n",
       "      <td>Spencertown</td>\n",
       "      <td>2016-07-31 14:53:22</td>\n",
       "      <td>6.87</td>\n",
       "      <td>2242596575892</td>\n",
       "    </tr>\n",
       "    <tr>\n",
       "      <th>4</th>\n",
       "      <td>Nguyenbury</td>\n",
       "      <td>2016-07-09 04:42:44</td>\n",
       "      <td>6.28</td>\n",
       "      <td>1543057793673</td>\n",
       "    </tr>\n",
       "  </tbody>\n",
       "</table>\n",
       "</div>"
      ],
      "text/plain": [
       "          city                 date   fare        ride_id\n",
       "0     Sarabury  2016-01-16 13:49:27  38.35  5403689035038\n",
       "1    South Roy  2016-01-02 18:42:34  17.49  4036272335942\n",
       "2  Wiseborough  2016-01-21 17:35:29  44.18  3645042422587\n",
       "3  Spencertown  2016-07-31 14:53:22   6.87  2242596575892\n",
       "4   Nguyenbury  2016-07-09 04:42:44   6.28  1543057793673"
      ]
     },
     "execution_count": 317,
     "metadata": {},
     "output_type": "execute_result"
    }
   ],
   "source": [
    "import pandas as pd\n",
    "import matplotlib.pyplot as plt\n",
    "import seaborn as sns\n",
    "\n",
    "ride_data_pd = pd.read_csv(\"ride_data.csv\")\n",
    "ride_data_pd.head()\n",
    "\n",
    "\n"
   ]
  },
  {
   "cell_type": "code",
   "execution_count": 318,
   "metadata": {},
   "outputs": [
    {
     "data": {
      "text/plain": [
       "city\n",
       "Alvarezhaven    23.928710\n",
       "Alyssaberg      20.609615\n",
       "Anitamouth      37.315556\n",
       "Antoniomouth    23.625000\n",
       "Aprilchester    21.981579\n",
       "Name: fare, dtype: float64"
      ]
     },
     "execution_count": 318,
     "metadata": {},
     "output_type": "execute_result"
    }
   ],
   "source": [
    "# example of how you make a copy of a dataframe using pandas\n",
    "# new = old[['A', 'C', 'D']].copy()\n",
    "\n",
    "#makes copy of original data frame to use for avg fare per city with only city and fare\n",
    "# city_fare_only = ride_data_pd[[\"city\", \"fare\"]].copy(deep = True)\n",
    "# city_fare_only.head()\n",
    "\n",
    "#uses the original data frame to calc the avg fare per city\n",
    "avg_city_fare = ride_data_pd.groupby([\"city\"]).mean()[\"fare\"]\n",
    "avg_city_fare.head()"
   ]
  },
  {
   "cell_type": "code",
   "execution_count": 319,
   "metadata": {
    "collapsed": true
   },
   "outputs": [],
   "source": [
    "#uses the copy of the dataframe from abover to get avg fare per city\n",
    "# avg_city_fare = city_fare_only.groupby([\"city\"]).mean()[\"fare\"]\n",
    "# avg_city_fare.head()\n"
   ]
  },
  {
   "cell_type": "code",
   "execution_count": 320,
   "metadata": {},
   "outputs": [
    {
     "data": {
      "text/plain": [
       "city\n",
       "Alvarezhaven    31\n",
       "Alyssaberg      26\n",
       "Anitamouth       9\n",
       "Antoniomouth    22\n",
       "Aprilchester    19\n",
       "Name: fare, dtype: int64"
      ]
     },
     "execution_count": 320,
     "metadata": {},
     "output_type": "execute_result"
    }
   ],
   "source": [
    "# Total Number of Rides Per City\n",
    "total_city_rides = ride_data_pd.groupby([\"city\"]).count()[\"fare\"]\n",
    "total_city_rides.head()"
   ]
  },
  {
   "cell_type": "code",
   "execution_count": 321,
   "metadata": {},
   "outputs": [
    {
     "data": {
      "text/plain": [
       "pandas.core.frame.DataFrame"
      ]
     },
     "execution_count": 321,
     "metadata": {},
     "output_type": "execute_result"
    }
   ],
   "source": [
    "# Importing city_data.csv\n",
    "city_data_pd = pd.read_csv(\"city_data.csv\")\n",
    "city_data_pd.head()\n",
    "type(city_data_pd)\n"
   ]
  },
  {
   "cell_type": "code",
   "execution_count": 322,
   "metadata": {},
   "outputs": [
    {
     "data": {
      "text/plain": [
       "city\n",
       "Alvarezhaven    21\n",
       "Alyssaberg      67\n",
       "Anitamouth      16\n",
       "Antoniomouth    21\n",
       "Aprilchester    49\n",
       "Name: driver_count, dtype: int64"
      ]
     },
     "execution_count": 322,
     "metadata": {},
     "output_type": "execute_result"
    }
   ],
   "source": [
    "# Total Number of Drivers Per City\n",
    "total_city_drivers = city_data_pd.groupby([\"city\"]).sum()[\"driver_count\"]\n",
    "total_city_drivers.head()"
   ]
  },
  {
   "cell_type": "code",
   "execution_count": 323,
   "metadata": {},
   "outputs": [],
   "source": [
    "# #city type per city\n",
    "# # Total Number of Drivers Per City\n",
    "# type_per_city_df = city_data_pd.groupby([\"city\"])\n",
    "# type_per_city_df.head()\n",
    "# type(type_per_city_df)"
   ]
  },
  {
   "cell_type": "code",
   "execution_count": 324,
   "metadata": {},
   "outputs": [
    {
     "data": {
      "text/html": [
       "<div>\n",
       "<style>\n",
       "    .dataframe thead tr:only-child th {\n",
       "        text-align: right;\n",
       "    }\n",
       "\n",
       "    .dataframe thead th {\n",
       "        text-align: left;\n",
       "    }\n",
       "\n",
       "    .dataframe tbody tr th {\n",
       "        vertical-align: top;\n",
       "    }\n",
       "</style>\n",
       "<table border=\"1\" class=\"dataframe\">\n",
       "  <thead>\n",
       "    <tr style=\"text-align: right;\">\n",
       "      <th></th>\n",
       "      <th>Avg Fare per City</th>\n",
       "      <th>Total # of Rides</th>\n",
       "      <th>Total Drivers per City</th>\n",
       "    </tr>\n",
       "    <tr>\n",
       "      <th>city</th>\n",
       "      <th></th>\n",
       "      <th></th>\n",
       "      <th></th>\n",
       "    </tr>\n",
       "  </thead>\n",
       "  <tbody>\n",
       "    <tr>\n",
       "      <th>Alvarezhaven</th>\n",
       "      <td>23.928710</td>\n",
       "      <td>31</td>\n",
       "      <td>21</td>\n",
       "    </tr>\n",
       "    <tr>\n",
       "      <th>Alyssaberg</th>\n",
       "      <td>20.609615</td>\n",
       "      <td>26</td>\n",
       "      <td>67</td>\n",
       "    </tr>\n",
       "    <tr>\n",
       "      <th>Anitamouth</th>\n",
       "      <td>37.315556</td>\n",
       "      <td>9</td>\n",
       "      <td>16</td>\n",
       "    </tr>\n",
       "    <tr>\n",
       "      <th>Antoniomouth</th>\n",
       "      <td>23.625000</td>\n",
       "      <td>22</td>\n",
       "      <td>21</td>\n",
       "    </tr>\n",
       "    <tr>\n",
       "      <th>Aprilchester</th>\n",
       "      <td>21.981579</td>\n",
       "      <td>19</td>\n",
       "      <td>49</td>\n",
       "    </tr>\n",
       "  </tbody>\n",
       "</table>\n",
       "</div>"
      ],
      "text/plain": [
       "              Avg Fare per City  Total # of Rides  Total Drivers per City\n",
       "city                                                                     \n",
       "Alvarezhaven          23.928710                31                      21\n",
       "Alyssaberg            20.609615                26                      67\n",
       "Anitamouth            37.315556                 9                      16\n",
       "Antoniomouth          23.625000                22                      21\n",
       "Aprilchester          21.981579                19                      49"
      ]
     },
     "execution_count": 324,
     "metadata": {},
     "output_type": "execute_result"
    }
   ],
   "source": [
    "#make new data frame with 3 columns: 3 key variables from above\n",
    "pyber_city_variables_df = pd.DataFrame({\"Avg Fare per City\": avg_city_fare,\n",
    "                                  \"Total # of Rides\": total_city_rides,\n",
    "                                  \"Total Drivers per City\": total_city_drivers})\n",
    "\n",
    "pyber_city_variables_df.head()\n",
    "# type(pyber_city_variables_df)\n",
    "\n",
    "##we're gonna have to merge a city type table and the pyber comparison table since I can't pull the right \n",
    "##...data point into city type. I keep pulling in (city_name, [city]) into the list from the groupby if I do not function"
   ]
  },
  {
   "cell_type": "code",
   "execution_count": 325,
   "metadata": {},
   "outputs": [
    {
     "data": {
      "text/html": [
       "<div>\n",
       "<style>\n",
       "    .dataframe thead tr:only-child th {\n",
       "        text-align: right;\n",
       "    }\n",
       "\n",
       "    .dataframe thead th {\n",
       "        text-align: left;\n",
       "    }\n",
       "\n",
       "    .dataframe tbody tr th {\n",
       "        vertical-align: top;\n",
       "    }\n",
       "</style>\n",
       "<table border=\"1\" class=\"dataframe\">\n",
       "  <thead>\n",
       "    <tr style=\"text-align: right;\">\n",
       "      <th></th>\n",
       "      <th>city</th>\n",
       "      <th>Avg Fare per City</th>\n",
       "      <th>Total # of Rides</th>\n",
       "      <th>Total Drivers per City</th>\n",
       "    </tr>\n",
       "    <tr>\n",
       "      <th>city</th>\n",
       "      <th></th>\n",
       "      <th></th>\n",
       "      <th></th>\n",
       "      <th></th>\n",
       "    </tr>\n",
       "  </thead>\n",
       "  <tbody>\n",
       "    <tr>\n",
       "      <th>Alvarezhaven</th>\n",
       "      <td>Alvarezhaven</td>\n",
       "      <td>23.928710</td>\n",
       "      <td>31</td>\n",
       "      <td>21</td>\n",
       "    </tr>\n",
       "    <tr>\n",
       "      <th>Alyssaberg</th>\n",
       "      <td>Alyssaberg</td>\n",
       "      <td>20.609615</td>\n",
       "      <td>26</td>\n",
       "      <td>67</td>\n",
       "    </tr>\n",
       "    <tr>\n",
       "      <th>Anitamouth</th>\n",
       "      <td>Anitamouth</td>\n",
       "      <td>37.315556</td>\n",
       "      <td>9</td>\n",
       "      <td>16</td>\n",
       "    </tr>\n",
       "    <tr>\n",
       "      <th>Antoniomouth</th>\n",
       "      <td>Antoniomouth</td>\n",
       "      <td>23.625000</td>\n",
       "      <td>22</td>\n",
       "      <td>21</td>\n",
       "    </tr>\n",
       "    <tr>\n",
       "      <th>Aprilchester</th>\n",
       "      <td>Aprilchester</td>\n",
       "      <td>21.981579</td>\n",
       "      <td>19</td>\n",
       "      <td>49</td>\n",
       "    </tr>\n",
       "  </tbody>\n",
       "</table>\n",
       "</div>"
      ],
      "text/plain": [
       "                      city  Avg Fare per City  Total # of Rides  \\\n",
       "city                                                              \n",
       "Alvarezhaven  Alvarezhaven          23.928710                31   \n",
       "Alyssaberg      Alyssaberg          20.609615                26   \n",
       "Anitamouth      Anitamouth          37.315556                 9   \n",
       "Antoniomouth  Antoniomouth          23.625000                22   \n",
       "Aprilchester  Aprilchester          21.981579                19   \n",
       "\n",
       "              Total Drivers per City  \n",
       "city                                  \n",
       "Alvarezhaven                      21  \n",
       "Alyssaberg                        67  \n",
       "Anitamouth                        16  \n",
       "Antoniomouth                      21  \n",
       "Aprilchester                      49  "
      ]
     },
     "execution_count": 325,
     "metadata": {},
     "output_type": "execute_result"
    }
   ],
   "source": [
    "##place index as a column\n",
    "pyber_city_variables_df['city'] = pyber_city_variables_df.index\n",
    "# pyber_city_variables_df.head()\n",
    "\n",
    "pyber_city_variables_df = pyber_city_variables_df[['city', 'Avg Fare per City', 'Total # of Rides', 'Total Drivers per City']]\n",
    "pyber_city_variables_df.head()"
   ]
  },
  {
   "cell_type": "code",
   "execution_count": 326,
   "metadata": {},
   "outputs": [
    {
     "data": {
      "text/html": [
       "<div>\n",
       "<style>\n",
       "    .dataframe thead tr:only-child th {\n",
       "        text-align: right;\n",
       "    }\n",
       "\n",
       "    .dataframe thead th {\n",
       "        text-align: left;\n",
       "    }\n",
       "\n",
       "    .dataframe tbody tr th {\n",
       "        vertical-align: top;\n",
       "    }\n",
       "</style>\n",
       "<table border=\"1\" class=\"dataframe\">\n",
       "  <thead>\n",
       "    <tr style=\"text-align: right;\">\n",
       "      <th></th>\n",
       "      <th>city</th>\n",
       "      <th>Avg Fare per City</th>\n",
       "      <th>Total # of Rides</th>\n",
       "      <th>Total Drivers per City</th>\n",
       "    </tr>\n",
       "  </thead>\n",
       "  <tbody>\n",
       "    <tr>\n",
       "      <th>0</th>\n",
       "      <td>Alvarezhaven</td>\n",
       "      <td>23.928710</td>\n",
       "      <td>31</td>\n",
       "      <td>21</td>\n",
       "    </tr>\n",
       "    <tr>\n",
       "      <th>1</th>\n",
       "      <td>Alyssaberg</td>\n",
       "      <td>20.609615</td>\n",
       "      <td>26</td>\n",
       "      <td>67</td>\n",
       "    </tr>\n",
       "    <tr>\n",
       "      <th>2</th>\n",
       "      <td>Anitamouth</td>\n",
       "      <td>37.315556</td>\n",
       "      <td>9</td>\n",
       "      <td>16</td>\n",
       "    </tr>\n",
       "    <tr>\n",
       "      <th>3</th>\n",
       "      <td>Antoniomouth</td>\n",
       "      <td>23.625000</td>\n",
       "      <td>22</td>\n",
       "      <td>21</td>\n",
       "    </tr>\n",
       "    <tr>\n",
       "      <th>4</th>\n",
       "      <td>Aprilchester</td>\n",
       "      <td>21.981579</td>\n",
       "      <td>19</td>\n",
       "      <td>49</td>\n",
       "    </tr>\n",
       "  </tbody>\n",
       "</table>\n",
       "</div>"
      ],
      "text/plain": [
       "           city  Avg Fare per City  Total # of Rides  Total Drivers per City\n",
       "0  Alvarezhaven          23.928710                31                      21\n",
       "1    Alyssaberg          20.609615                26                      67\n",
       "2    Anitamouth          37.315556                 9                      16\n",
       "3  Antoniomouth          23.625000                22                      21\n",
       "4  Aprilchester          21.981579                19                      49"
      ]
     },
     "execution_count": 326,
     "metadata": {},
     "output_type": "execute_result"
    }
   ],
   "source": [
    "#resetting the index to have it merge with my other table. Would keep erroring if I kept index as city.\n",
    "new_df = pyber_city_variables_df.reset_index(drop=True)\n",
    "new_df.head()"
   ]
  },
  {
   "cell_type": "code",
   "execution_count": 327,
   "metadata": {},
   "outputs": [
    {
     "data": {
      "text/html": [
       "<div>\n",
       "<style>\n",
       "    .dataframe thead tr:only-child th {\n",
       "        text-align: right;\n",
       "    }\n",
       "\n",
       "    .dataframe thead th {\n",
       "        text-align: left;\n",
       "    }\n",
       "\n",
       "    .dataframe tbody tr th {\n",
       "        vertical-align: top;\n",
       "    }\n",
       "</style>\n",
       "<table border=\"1\" class=\"dataframe\">\n",
       "  <thead>\n",
       "    <tr style=\"text-align: right;\">\n",
       "      <th></th>\n",
       "      <th>city</th>\n",
       "      <th>Avg Fare per City</th>\n",
       "      <th>Total # of Rides</th>\n",
       "      <th>Total Drivers per City</th>\n",
       "      <th>driver_count</th>\n",
       "      <th>type</th>\n",
       "    </tr>\n",
       "  </thead>\n",
       "  <tbody>\n",
       "    <tr>\n",
       "      <th>0</th>\n",
       "      <td>Alvarezhaven</td>\n",
       "      <td>23.928710</td>\n",
       "      <td>31</td>\n",
       "      <td>21</td>\n",
       "      <td>21</td>\n",
       "      <td>Urban</td>\n",
       "    </tr>\n",
       "    <tr>\n",
       "      <th>1</th>\n",
       "      <td>Alyssaberg</td>\n",
       "      <td>20.609615</td>\n",
       "      <td>26</td>\n",
       "      <td>67</td>\n",
       "      <td>67</td>\n",
       "      <td>Urban</td>\n",
       "    </tr>\n",
       "    <tr>\n",
       "      <th>2</th>\n",
       "      <td>Anitamouth</td>\n",
       "      <td>37.315556</td>\n",
       "      <td>9</td>\n",
       "      <td>16</td>\n",
       "      <td>16</td>\n",
       "      <td>Suburban</td>\n",
       "    </tr>\n",
       "    <tr>\n",
       "      <th>3</th>\n",
       "      <td>Antoniomouth</td>\n",
       "      <td>23.625000</td>\n",
       "      <td>22</td>\n",
       "      <td>21</td>\n",
       "      <td>21</td>\n",
       "      <td>Urban</td>\n",
       "    </tr>\n",
       "    <tr>\n",
       "      <th>4</th>\n",
       "      <td>Aprilchester</td>\n",
       "      <td>21.981579</td>\n",
       "      <td>19</td>\n",
       "      <td>49</td>\n",
       "      <td>49</td>\n",
       "      <td>Urban</td>\n",
       "    </tr>\n",
       "  </tbody>\n",
       "</table>\n",
       "</div>"
      ],
      "text/plain": [
       "           city  Avg Fare per City  Total # of Rides  Total Drivers per City  \\\n",
       "0  Alvarezhaven          23.928710                31                      21   \n",
       "1    Alyssaberg          20.609615                26                      67   \n",
       "2    Anitamouth          37.315556                 9                      16   \n",
       "3  Antoniomouth          23.625000                22                      21   \n",
       "4  Aprilchester          21.981579                19                      49   \n",
       "\n",
       "   driver_count      type  \n",
       "0            21     Urban  \n",
       "1            67     Urban  \n",
       "2            16  Suburban  \n",
       "3            21     Urban  \n",
       "4            49     Urban  "
      ]
     },
     "execution_count": 327,
     "metadata": {},
     "output_type": "execute_result"
    }
   ],
   "source": [
    "##join the 2 tables \"new_df\" and original city_data_pd\n",
    "city_plus_type_df = pd.merge(new_df, city_data_pd, on = \"city\")\n",
    "city_plus_type_df.head()"
   ]
  },
  {
   "cell_type": "code",
   "execution_count": 406,
   "metadata": {},
   "outputs": [
    {
     "data": {
      "image/png": "[encoded data removed]",
      "text/plain": [
       "<matplotlib.figure.Figure at 0x15b2b8b2ef0>"
      ]
     },
     "metadata": {},
     "output_type": "display_data"
    }
   ],
   "source": [
    "##using seaborn for the plot. Can't get my bubbles to change shape though\n",
    "sns.lmplot(x='Total # of Rides', y='Avg Fare per City', data=city_plus_type_df, fit_reg=False, size=4, aspect=1, hue='type', palette=dict(Urban=\"Gold\", Suburban=\"lightskyblue\", Rural=\"lightcoral\"))   # Color by evolution stage)\n",
    "# Tweak using Matplotlib\n",
    "plt.xlim(0, 40)\n",
    "plt.ylim(15, 45)\n",
    "xlabel('Total Number of Rides Per City')\n",
    "ylabel('Average Fare ($)')\n",
    "\n",
    "show()"
   ]
  },
  {
   "cell_type": "code",
   "execution_count": 411,
   "metadata": {},
   "outputs": [
    {
     "data": {
      "image/png": "[encoded data removed]",
      "text/plain": [
       "<matplotlib.figure.Figure at 0x15b2b6dc908>"
      ]
     },
     "metadata": {},
     "output_type": "display_data"
    }
   ],
   "source": [
    "### This is using straight matplotlib and pyplot alowwing me to change bubble size!\n",
    "#BUT bubble colors won't correlate to correct city_type like above.\n",
    "\n",
    "fig = plt.figure()\n",
    "ax = fig.add_subplot(111, aspect='equal')\n",
    "\n",
    "colors = [\"Gold\", \"lightskyblue\", \"lightcoral\"]\n",
    "# colors = [Urban=\"Gold\", Suburban=\"lightskyblue\", Rural=\"lightcoral\"]\n",
    "ax.scatter(city_plus_type_df['Total # of Rides'], city_plus_type_df['Avg Fare per City'],c=colors, s=city_plus_type_df['Total Drivers per City']*5, linewidths=-1, edgecolor='w')\n",
    "\n",
    "# # Create a legend\n",
    "# lgnd = plt.legend(city_plus_type_df['type'],fontsize=\"small\", mode=\"Expanded\", \n",
    "#                   numpoints=3, scatterpoints=1, \n",
    "#                   loc=\"best\", title=\"City Types\", \n",
    "#                   labelspacing=0.5)\n",
    "\n",
    "plt.xlim(0,40)\n",
    "plt.ylim(15, 40)\n",
    "xlabel('Total Number of Rides Per City')\n",
    "ylabel('Average Fare ($)')\n",
    "\n",
    "\n",
    "plt.show()"
   ]
  },
  {
   "cell_type": "code",
   "execution_count": 330,
   "metadata": {},
   "outputs": [
    {
     "data": {
      "text/html": [
       "<div>\n",
       "<style>\n",
       "    .dataframe thead tr:only-child th {\n",
       "        text-align: right;\n",
       "    }\n",
       "\n",
       "    .dataframe thead th {\n",
       "        text-align: left;\n",
       "    }\n",
       "\n",
       "    .dataframe tbody tr th {\n",
       "        vertical-align: top;\n",
       "    }\n",
       "</style>\n",
       "<table border=\"1\" class=\"dataframe\">\n",
       "  <thead>\n",
       "    <tr style=\"text-align: right;\">\n",
       "      <th></th>\n",
       "      <th>city</th>\n",
       "      <th>Avg Fare per City</th>\n",
       "      <th>Total # of Rides</th>\n",
       "      <th>Total Drivers per City</th>\n",
       "      <th>driver_count</th>\n",
       "      <th>type</th>\n",
       "    </tr>\n",
       "  </thead>\n",
       "  <tbody>\n",
       "    <tr>\n",
       "      <th>0</th>\n",
       "      <td>Alvarezhaven</td>\n",
       "      <td>23.928710</td>\n",
       "      <td>31</td>\n",
       "      <td>21</td>\n",
       "      <td>21</td>\n",
       "      <td>Urban</td>\n",
       "    </tr>\n",
       "    <tr>\n",
       "      <th>1</th>\n",
       "      <td>Alyssaberg</td>\n",
       "      <td>20.609615</td>\n",
       "      <td>26</td>\n",
       "      <td>67</td>\n",
       "      <td>67</td>\n",
       "      <td>Urban</td>\n",
       "    </tr>\n",
       "    <tr>\n",
       "      <th>2</th>\n",
       "      <td>Anitamouth</td>\n",
       "      <td>37.315556</td>\n",
       "      <td>9</td>\n",
       "      <td>16</td>\n",
       "      <td>16</td>\n",
       "      <td>Suburban</td>\n",
       "    </tr>\n",
       "    <tr>\n",
       "      <th>3</th>\n",
       "      <td>Antoniomouth</td>\n",
       "      <td>23.625000</td>\n",
       "      <td>22</td>\n",
       "      <td>21</td>\n",
       "      <td>21</td>\n",
       "      <td>Urban</td>\n",
       "    </tr>\n",
       "    <tr>\n",
       "      <th>4</th>\n",
       "      <td>Aprilchester</td>\n",
       "      <td>21.981579</td>\n",
       "      <td>19</td>\n",
       "      <td>49</td>\n",
       "      <td>49</td>\n",
       "      <td>Urban</td>\n",
       "    </tr>\n",
       "  </tbody>\n",
       "</table>\n",
       "</div>"
      ],
      "text/plain": [
       "           city  Avg Fare per City  Total # of Rides  Total Drivers per City  \\\n",
       "0  Alvarezhaven          23.928710                31                      21   \n",
       "1    Alyssaberg          20.609615                26                      67   \n",
       "2    Anitamouth          37.315556                 9                      16   \n",
       "3  Antoniomouth          23.625000                22                      21   \n",
       "4  Aprilchester          21.981579                19                      49   \n",
       "\n",
       "   driver_count      type  \n",
       "0            21     Urban  \n",
       "1            67     Urban  \n",
       "2            16  Suburban  \n",
       "3            21     Urban  \n",
       "4            49     Urban  "
      ]
     },
     "execution_count": 330,
     "metadata": {},
     "output_type": "execute_result"
    }
   ],
   "source": [
    "##just for viewing purposes\n",
    "city_plus_type_df.head()"
   ]
  },
  {
   "cell_type": "code",
   "execution_count": 331,
   "metadata": {},
   "outputs": [
    {
     "data": {
      "text/plain": [
       "type\n",
       "Rural        5.193187\n",
       "Suburban    27.295388\n",
       "Urban       67.511425\n",
       "Name: Total # of Rides, dtype: float64"
      ]
     },
     "execution_count": 331,
     "metadata": {},
     "output_type": "execute_result"
    }
   ],
   "source": [
    "## percent of Total Rides by City Type\n",
    "total_rides_city_type = city_plus_type_df.groupby([\"type\"]).sum()[\"Total # of Rides\"]/(sum([city_plus_type_df[\"Total # of Rides\"]]))*100\n",
    "total_rides_city_type.head()\n"
   ]
  },
  {
   "cell_type": "code",
   "execution_count": 332,
   "metadata": {},
   "outputs": [
    {
     "data": {
      "text/plain": [
       "type\n",
       "Rural        3.088803\n",
       "Suburban    19.483219\n",
       "Urban       77.427977\n",
       "Name: Total Drivers per City, dtype: float64"
      ]
     },
     "execution_count": 332,
     "metadata": {},
     "output_type": "execute_result"
    }
   ],
   "source": [
    "## percent of Total Fares by City Type\n",
    "total_drivers_city_type = city_plus_type_df.groupby([\"type\"]).sum()[\"Total Drivers per City\"]/(sum([city_plus_type_df[\"Total Drivers per City\"]]))*100\n",
    "total_drivers_city_type.head()"
   ]
  },
  {
   "cell_type": "code",
   "execution_count": 333,
   "metadata": {},
   "outputs": [
    {
     "data": {
      "text/html": [
       "<div>\n",
       "<style>\n",
       "    .dataframe thead tr:only-child th {\n",
       "        text-align: right;\n",
       "    }\n",
       "\n",
       "    .dataframe thead th {\n",
       "        text-align: left;\n",
       "    }\n",
       "\n",
       "    .dataframe tbody tr th {\n",
       "        vertical-align: top;\n",
       "    }\n",
       "</style>\n",
       "<table border=\"1\" class=\"dataframe\">\n",
       "  <thead>\n",
       "    <tr style=\"text-align: right;\">\n",
       "      <th></th>\n",
       "      <th>total fare per city</th>\n",
       "    </tr>\n",
       "    <tr>\n",
       "      <th>city</th>\n",
       "      <th></th>\n",
       "    </tr>\n",
       "  </thead>\n",
       "  <tbody>\n",
       "    <tr>\n",
       "      <th>Alvarezhaven</th>\n",
       "      <td>741.79</td>\n",
       "    </tr>\n",
       "    <tr>\n",
       "      <th>Alyssaberg</th>\n",
       "      <td>535.85</td>\n",
       "    </tr>\n",
       "    <tr>\n",
       "      <th>Anitamouth</th>\n",
       "      <td>335.84</td>\n",
       "    </tr>\n",
       "    <tr>\n",
       "      <th>Antoniomouth</th>\n",
       "      <td>519.75</td>\n",
       "    </tr>\n",
       "    <tr>\n",
       "      <th>Aprilchester</th>\n",
       "      <td>417.65</td>\n",
       "    </tr>\n",
       "  </tbody>\n",
       "</table>\n",
       "</div>"
      ],
      "text/plain": [
       "              total fare per city\n",
       "city                             \n",
       "Alvarezhaven               741.79\n",
       "Alyssaberg                 535.85\n",
       "Anitamouth                 335.84\n",
       "Antoniomouth               519.75\n",
       "Aprilchester               417.65"
      ]
     },
     "execution_count": 333,
     "metadata": {},
     "output_type": "execute_result"
    }
   ],
   "source": [
    "## percent of Total Drivers by City Type\n",
    "##going to have to get original table with fares and group them by type and get \n",
    "#uses the original data frame to calc the avg fare per city\n",
    "fare_per_city = ride_data_pd.groupby([\"city\"]).sum()[\"fare\"]\n",
    "type(percent_drivers_type)\n",
    "\n",
    "#make new data frame\n",
    "fare_per_city = pd.DataFrame({\"total fare per city\": fare_per_city})\n",
    "fare_per_city.head()"
   ]
  },
  {
   "cell_type": "code",
   "execution_count": 334,
   "metadata": {},
   "outputs": [
    {
     "data": {
      "text/html": [
       "<div>\n",
       "<style>\n",
       "    .dataframe thead tr:only-child th {\n",
       "        text-align: right;\n",
       "    }\n",
       "\n",
       "    .dataframe thead th {\n",
       "        text-align: left;\n",
       "    }\n",
       "\n",
       "    .dataframe tbody tr th {\n",
       "        vertical-align: top;\n",
       "    }\n",
       "</style>\n",
       "<table border=\"1\" class=\"dataframe\">\n",
       "  <thead>\n",
       "    <tr style=\"text-align: right;\">\n",
       "      <th></th>\n",
       "      <th>total fare per city</th>\n",
       "      <th>city</th>\n",
       "    </tr>\n",
       "    <tr>\n",
       "      <th>city</th>\n",
       "      <th></th>\n",
       "      <th></th>\n",
       "    </tr>\n",
       "  </thead>\n",
       "  <tbody>\n",
       "    <tr>\n",
       "      <th>Alvarezhaven</th>\n",
       "      <td>741.79</td>\n",
       "      <td>Alvarezhaven</td>\n",
       "    </tr>\n",
       "    <tr>\n",
       "      <th>Alyssaberg</th>\n",
       "      <td>535.85</td>\n",
       "      <td>Alyssaberg</td>\n",
       "    </tr>\n",
       "    <tr>\n",
       "      <th>Anitamouth</th>\n",
       "      <td>335.84</td>\n",
       "      <td>Anitamouth</td>\n",
       "    </tr>\n",
       "    <tr>\n",
       "      <th>Antoniomouth</th>\n",
       "      <td>519.75</td>\n",
       "      <td>Antoniomouth</td>\n",
       "    </tr>\n",
       "    <tr>\n",
       "      <th>Aprilchester</th>\n",
       "      <td>417.65</td>\n",
       "      <td>Aprilchester</td>\n",
       "    </tr>\n",
       "  </tbody>\n",
       "</table>\n",
       "</div>"
      ],
      "text/plain": [
       "              total fare per city          city\n",
       "city                                           \n",
       "Alvarezhaven               741.79  Alvarezhaven\n",
       "Alyssaberg                 535.85    Alyssaberg\n",
       "Anitamouth                 335.84    Anitamouth\n",
       "Antoniomouth               519.75  Antoniomouth\n",
       "Aprilchester               417.65  Aprilchester"
      ]
     },
     "execution_count": 334,
     "metadata": {},
     "output_type": "execute_result"
    }
   ],
   "source": [
    "##place index as a column\n",
    "fare_per_city['city'] = fare_per_city.index\n",
    "fare_per_city.head()"
   ]
  },
  {
   "cell_type": "code",
   "execution_count": 335,
   "metadata": {},
   "outputs": [
    {
     "data": {
      "text/html": [
       "<div>\n",
       "<style>\n",
       "    .dataframe thead tr:only-child th {\n",
       "        text-align: right;\n",
       "    }\n",
       "\n",
       "    .dataframe thead th {\n",
       "        text-align: left;\n",
       "    }\n",
       "\n",
       "    .dataframe tbody tr th {\n",
       "        vertical-align: top;\n",
       "    }\n",
       "</style>\n",
       "<table border=\"1\" class=\"dataframe\">\n",
       "  <thead>\n",
       "    <tr style=\"text-align: right;\">\n",
       "      <th></th>\n",
       "      <th>city</th>\n",
       "      <th>total fare per city</th>\n",
       "    </tr>\n",
       "  </thead>\n",
       "  <tbody>\n",
       "    <tr>\n",
       "      <th>0</th>\n",
       "      <td>Alvarezhaven</td>\n",
       "      <td>741.79</td>\n",
       "    </tr>\n",
       "    <tr>\n",
       "      <th>1</th>\n",
       "      <td>Alyssaberg</td>\n",
       "      <td>535.85</td>\n",
       "    </tr>\n",
       "    <tr>\n",
       "      <th>2</th>\n",
       "      <td>Anitamouth</td>\n",
       "      <td>335.84</td>\n",
       "    </tr>\n",
       "    <tr>\n",
       "      <th>3</th>\n",
       "      <td>Antoniomouth</td>\n",
       "      <td>519.75</td>\n",
       "    </tr>\n",
       "    <tr>\n",
       "      <th>4</th>\n",
       "      <td>Aprilchester</td>\n",
       "      <td>417.65</td>\n",
       "    </tr>\n",
       "  </tbody>\n",
       "</table>\n",
       "</div>"
      ],
      "text/plain": [
       "           city  total fare per city\n",
       "0  Alvarezhaven               741.79\n",
       "1    Alyssaberg               535.85\n",
       "2    Anitamouth               335.84\n",
       "3  Antoniomouth               519.75\n",
       "4  Aprilchester               417.65"
      ]
     },
     "execution_count": 335,
     "metadata": {},
     "output_type": "execute_result"
    }
   ],
   "source": [
    "#resetting the index to have it merge with my other table.\n",
    "fare_per_city = fare_per_city.reset_index(drop=True)\n",
    "fare_per_city.head()\n",
    "\n",
    "fare_per_city = fare_per_city[['city', 'total fare per city']]\n",
    "fare_per_city.head()"
   ]
  },
  {
   "cell_type": "code",
   "execution_count": 336,
   "metadata": {},
   "outputs": [
    {
     "data": {
      "text/html": [
       "<div>\n",
       "<style>\n",
       "    .dataframe thead tr:only-child th {\n",
       "        text-align: right;\n",
       "    }\n",
       "\n",
       "    .dataframe thead th {\n",
       "        text-align: left;\n",
       "    }\n",
       "\n",
       "    .dataframe tbody tr th {\n",
       "        vertical-align: top;\n",
       "    }\n",
       "</style>\n",
       "<table border=\"1\" class=\"dataframe\">\n",
       "  <thead>\n",
       "    <tr style=\"text-align: right;\">\n",
       "      <th></th>\n",
       "      <th>city</th>\n",
       "      <th>Avg Fare per City</th>\n",
       "      <th>Total # of Rides</th>\n",
       "      <th>Total Drivers per City</th>\n",
       "      <th>driver_count</th>\n",
       "      <th>type</th>\n",
       "      <th>total fare per city</th>\n",
       "    </tr>\n",
       "  </thead>\n",
       "  <tbody>\n",
       "    <tr>\n",
       "      <th>0</th>\n",
       "      <td>Alvarezhaven</td>\n",
       "      <td>23.928710</td>\n",
       "      <td>31</td>\n",
       "      <td>21</td>\n",
       "      <td>21</td>\n",
       "      <td>Urban</td>\n",
       "      <td>741.79</td>\n",
       "    </tr>\n",
       "    <tr>\n",
       "      <th>1</th>\n",
       "      <td>Alyssaberg</td>\n",
       "      <td>20.609615</td>\n",
       "      <td>26</td>\n",
       "      <td>67</td>\n",
       "      <td>67</td>\n",
       "      <td>Urban</td>\n",
       "      <td>535.85</td>\n",
       "    </tr>\n",
       "    <tr>\n",
       "      <th>2</th>\n",
       "      <td>Anitamouth</td>\n",
       "      <td>37.315556</td>\n",
       "      <td>9</td>\n",
       "      <td>16</td>\n",
       "      <td>16</td>\n",
       "      <td>Suburban</td>\n",
       "      <td>335.84</td>\n",
       "    </tr>\n",
       "    <tr>\n",
       "      <th>3</th>\n",
       "      <td>Antoniomouth</td>\n",
       "      <td>23.625000</td>\n",
       "      <td>22</td>\n",
       "      <td>21</td>\n",
       "      <td>21</td>\n",
       "      <td>Urban</td>\n",
       "      <td>519.75</td>\n",
       "    </tr>\n",
       "    <tr>\n",
       "      <th>4</th>\n",
       "      <td>Aprilchester</td>\n",
       "      <td>21.981579</td>\n",
       "      <td>19</td>\n",
       "      <td>49</td>\n",
       "      <td>49</td>\n",
       "      <td>Urban</td>\n",
       "      <td>417.65</td>\n",
       "    </tr>\n",
       "  </tbody>\n",
       "</table>\n",
       "</div>"
      ],
      "text/plain": [
       "           city  Avg Fare per City  Total # of Rides  Total Drivers per City  \\\n",
       "0  Alvarezhaven          23.928710                31                      21   \n",
       "1    Alyssaberg          20.609615                26                      67   \n",
       "2    Anitamouth          37.315556                 9                      16   \n",
       "3  Antoniomouth          23.625000                22                      21   \n",
       "4  Aprilchester          21.981579                19                      49   \n",
       "\n",
       "   driver_count      type  total fare per city  \n",
       "0            21     Urban               741.79  \n",
       "1            67     Urban               535.85  \n",
       "2            16  Suburban               335.84  \n",
       "3            21     Urban               519.75  \n",
       "4            49     Urban               417.65  "
      ]
     },
     "execution_count": 336,
     "metadata": {},
     "output_type": "execute_result"
    }
   ],
   "source": [
    "## make dataframe with the other 2 datapoints then merge with 'city_plus_type_df'. then calculate % total fares by city type\n",
    "##then create new dataframe with those 3 values and do your pie charts\n",
    "\n",
    "# #adds total fare per city column\n",
    "# city_plus_type_df['total fare per city'] = fare_per_city['total fare per city']\n",
    "# city_plus_type_df.head()\n",
    "\n",
    "#merges tables per city which is probably better than just adding a column\n",
    "city_plus_type_df = pd.merge(city_plus_type_df, fare_per_city, on = \"city\")\n",
    "city_plus_type_df.head()\n"
   ]
  },
  {
   "cell_type": "code",
   "execution_count": 337,
   "metadata": {},
   "outputs": [
    {
     "data": {
      "text/plain": [
       "type\n",
       "Rural        6.579786\n",
       "Suburban    31.445750\n",
       "Urban       61.974463\n",
       "Name: total fare per city, dtype: float64"
      ]
     },
     "execution_count": 337,
     "metadata": {},
     "output_type": "execute_result"
    }
   ],
   "source": [
    "total_fare_city_type = city_plus_type_df.groupby([\"type\"]).sum()[\"total fare per city\"]/(sum([city_plus_type_df[\"total fare per city\"]]))*100\n",
    "total_fare_city_type.head()"
   ]
  },
  {
   "cell_type": "code",
   "execution_count": 338,
   "metadata": {},
   "outputs": [
    {
     "data": {
      "text/html": [
       "<div>\n",
       "<style>\n",
       "    .dataframe thead tr:only-child th {\n",
       "        text-align: right;\n",
       "    }\n",
       "\n",
       "    .dataframe thead th {\n",
       "        text-align: left;\n",
       "    }\n",
       "\n",
       "    .dataframe tbody tr th {\n",
       "        vertical-align: top;\n",
       "    }\n",
       "</style>\n",
       "<table border=\"1\" class=\"dataframe\">\n",
       "  <thead>\n",
       "    <tr style=\"text-align: right;\">\n",
       "      <th></th>\n",
       "      <th>% Total Drivers by City Type</th>\n",
       "      <th>% Total Fares</th>\n",
       "      <th>% Total Rides by City Type</th>\n",
       "    </tr>\n",
       "    <tr>\n",
       "      <th>type</th>\n",
       "      <th></th>\n",
       "      <th></th>\n",
       "      <th></th>\n",
       "    </tr>\n",
       "  </thead>\n",
       "  <tbody>\n",
       "    <tr>\n",
       "      <th>Rural</th>\n",
       "      <td>3.088803</td>\n",
       "      <td>6.579786</td>\n",
       "      <td>5.193187</td>\n",
       "    </tr>\n",
       "    <tr>\n",
       "      <th>Suburban</th>\n",
       "      <td>19.483219</td>\n",
       "      <td>31.445750</td>\n",
       "      <td>27.295388</td>\n",
       "    </tr>\n",
       "    <tr>\n",
       "      <th>Urban</th>\n",
       "      <td>77.427977</td>\n",
       "      <td>61.974463</td>\n",
       "      <td>67.511425</td>\n",
       "    </tr>\n",
       "  </tbody>\n",
       "</table>\n",
       "</div>"
      ],
      "text/plain": [
       "          % Total Drivers by City Type  % Total Fares  \\\n",
       "type                                                    \n",
       "Rural                         3.088803       6.579786   \n",
       "Suburban                     19.483219      31.445750   \n",
       "Urban                        77.427977      61.974463   \n",
       "\n",
       "          % Total Rides by City Type  \n",
       "type                                  \n",
       "Rural                       5.193187  \n",
       "Suburban                   27.295388  \n",
       "Urban                      67.511425  "
      ]
     },
     "execution_count": 338,
     "metadata": {},
     "output_type": "execute_result"
    }
   ],
   "source": [
    "##make new dataframe for pie charts with rural, suburban and urban \n",
    "pyber_city_type_variables = pd.DataFrame({\"% Total Fares\": total_fare_city_type,\n",
    "                                  \"% Total Rides by City Type\": total_rides_city_type,\n",
    "                                  \"% Total Drivers by City Type\": total_drivers_city_type})\n",
    "\n",
    "pyber_city_type_variables.head()"
   ]
  },
  {
   "cell_type": "code",
   "execution_count": 339,
   "metadata": {},
   "outputs": [
    {
     "data": {
      "text/html": [
       "<div>\n",
       "<style>\n",
       "    .dataframe thead tr:only-child th {\n",
       "        text-align: right;\n",
       "    }\n",
       "\n",
       "    .dataframe thead th {\n",
       "        text-align: left;\n",
       "    }\n",
       "\n",
       "    .dataframe tbody tr th {\n",
       "        vertical-align: top;\n",
       "    }\n",
       "</style>\n",
       "<table border=\"1\" class=\"dataframe\">\n",
       "  <thead>\n",
       "    <tr style=\"text-align: right;\">\n",
       "      <th></th>\n",
       "      <th>type</th>\n",
       "      <th>% Total Drivers by City Type</th>\n",
       "      <th>% Total Fares</th>\n",
       "      <th>% Total Rides by City Type</th>\n",
       "    </tr>\n",
       "  </thead>\n",
       "  <tbody>\n",
       "    <tr>\n",
       "      <th>0</th>\n",
       "      <td>Rural</td>\n",
       "      <td>3.088803</td>\n",
       "      <td>6.579786</td>\n",
       "      <td>5.193187</td>\n",
       "    </tr>\n",
       "    <tr>\n",
       "      <th>1</th>\n",
       "      <td>Suburban</td>\n",
       "      <td>19.483219</td>\n",
       "      <td>31.445750</td>\n",
       "      <td>27.295388</td>\n",
       "    </tr>\n",
       "    <tr>\n",
       "      <th>2</th>\n",
       "      <td>Urban</td>\n",
       "      <td>77.427977</td>\n",
       "      <td>61.974463</td>\n",
       "      <td>67.511425</td>\n",
       "    </tr>\n",
       "  </tbody>\n",
       "</table>\n",
       "</div>"
      ],
      "text/plain": [
       "       type  % Total Drivers by City Type  % Total Fares  \\\n",
       "0     Rural                      3.088803       6.579786   \n",
       "1  Suburban                     19.483219      31.445750   \n",
       "2     Urban                     77.427977      61.974463   \n",
       "\n",
       "   % Total Rides by City Type  \n",
       "0                    5.193187  \n",
       "1                   27.295388  \n",
       "2                   67.511425  "
      ]
     },
     "execution_count": 339,
     "metadata": {},
     "output_type": "execute_result"
    }
   ],
   "source": [
    "##turn the index to zero and move the current index \"type\" to a column. If I change drop to False I don't have to rearrange columns\n",
    "pyber_city_type_variables = pyber_city_type_variables.reset_index(drop=False)\n",
    "pyber_city_type_variables.head()"
   ]
  },
  {
   "cell_type": "code",
   "execution_count": 341,
   "metadata": {},
   "outputs": [
    {
     "data": {
      "image/png": "[encoded data removed]",
      "text/plain": [
       "<matplotlib.figure.Figure at 0x15b27e108d0>"
      ]
     },
     "metadata": {},
     "output_type": "display_data"
    }
   ],
   "source": [
    "## Percent of Total Fares\n",
    "\n",
    "fig = plt.figure()\n",
    "ax = fig.add_subplot(111)\n",
    "\n",
    "##going to use this for my labels\n",
    "city_types = pyber_city_type_variables['type']\n",
    "\n",
    "#colors and how far away to move each widget\n",
    "colors = [\"Gold\", \"lightskyblue\", \"lightcoral\"]\n",
    "explode = (0, 0.05, 0)\n",
    "\n",
    "ax.set_title(\"% of Total Fares by City Type\")\n",
    "ax.pie(pyber_city_type_variables['% Total Fares'], labels=city_types,explode=explode, colors=colors,\n",
    "       autopct=\"%1.1f%%\", shadow=True, startangle=90)\n",
    "ax.axis(\"equal\")\n",
    "\n",
    "plt.show()"
   ]
  },
  {
   "cell_type": "code",
   "execution_count": 395,
   "metadata": {},
   "outputs": [
    {
     "data": {
      "image/png": "[encoded data removed]",
      "text/plain": [
       "<matplotlib.figure.Figure at 0x15b282bfa58>"
      ]
     },
     "metadata": {},
     "output_type": "display_data"
    }
   ],
   "source": [
    "## Percent Total Drivers by city\n",
    "\n",
    "fig = plt.figure()\n",
    "ax = fig.add_subplot(111)\n",
    "\n",
    "# use for the label\n",
    "city_types = pyber_city_type_variables['type']\n",
    "\n",
    "#colors and how far away to move each widget\n",
    "colors = [\"Gold\", \"lightskyblue\", \"lightcoral\"]\n",
    "explode = (0, 0.07, 0.01)\n",
    "\n",
    "ax.set_title(\"% Total Drivers by City Type\")\n",
    "ax.pie(pyber_city_type_variables['% Total Drivers by City Type'],labels=city_types, explode=explode, colors=colors,\n",
    "       autopct=\"%1.1f%%\", shadow=True, startangle=90)\n",
    "ax.axis(\"equal\")\n",
    "\n",
    "plt.show()"
   ]
  },
  {
   "cell_type": "code",
   "execution_count": 349,
   "metadata": {},
   "outputs": [
    {
     "data": {
      "image/png": "[encoded data removed]",
      "text/plain": [
       "<matplotlib.figure.Figure at 0x15b2ba306a0>"
      ]
     },
     "metadata": {},
     "output_type": "display_data"
    }
   ],
   "source": [
    "## Percent Total by City Type\n",
    "\n",
    "fig = plt.figure()\n",
    "ax = fig.add_subplot(111)\n",
    "\n",
    "#gonna use for the label\n",
    "city_types = pyber_city_type_variables['type']\n",
    "\n",
    "#colors and how far away to move each widget\n",
    "colors = [\"Gold\", \"lightskyblue\", \"lightcoral\"]\n",
    "explode = (0.01, 0.01, 0.01)\n",
    "\n",
    "ax.set_title(\"% of Total Rides by City Type\")\n",
    "ax.pie(pyber_city_type_variables['% Total Rides by City Type'],labels=city_types, colors=colors, explode=explode,\n",
    "       autopct=\"%1.1f%%\", shadow=True, startangle=90)\n",
    "ax.axis(\"equal\")\n",
    "\n",
    "plt.show()"
   ]
  },
  {
   "cell_type": "code",
   "execution_count": null,
   "metadata": {
    "collapsed": true
   },
   "outputs": [],
   "source": [
    "# ##3 observations made from just looking at the data and what I would want to analyze more##\n",
    "\n",
    "# 1. While there are less rides in general rural areas than urban. \n",
    "# Fares are still on par and in general look to be above average than the urban areas\n",
    "# Though rural city types still make up a small percentage of the overall total combined fares of all city types.\n",
    "\n",
    "#2. The suburban market seems to be quite lucrative for drivers. While the suburban city type makes up 27% of total rides and 31.4% of Total fares\n",
    "## Only 19% of the total driver population drives in suburban cities areas while the average fare price looks to be slightly abover the urban average.\n",
    "\n",
    "#3. Urban areas seem to be oversatturated by the amount of available drivers and suburban and rural areas need a bit more to meet demand.\n",
    "##Urban areas made up 67.5% of total rides but also has 77.4% of drivers.\n",
    "##Suburban areas made up 27.3% of total rides but also has 19.5% of drivers.\n",
    "##Rural areas made up up 5.2% of total rides but also has 3.1% of drivers."
   ]
  }
 ],
 "metadata": {
  "kernelspec": {
   "display_name": "Python 3",
   "language": "python",
   "name": "python3"
  },
  "language_info": {
   "codemirror_mode": {
    "name": "ipython",
    "version": 3
   },
   "file_extension": ".py",
   "mimetype": "text/x-python",
   "name": "python",
   "nbconvert_exporter": "python",
   "pygments_lexer": "ipython3",
   "version": "3.6.1"
  }
 },
 "nbformat": 4,
 "nbformat_minor": 2
}
